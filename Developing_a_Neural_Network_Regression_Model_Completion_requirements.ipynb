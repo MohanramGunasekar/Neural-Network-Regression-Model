{
  "nbformat": 4,
  "nbformat_minor": 0,
  "metadata": {
    "colab": {
      "provenance": []
    },
    "kernelspec": {
      "name": "python3",
      "display_name": "Python 3"
    },
    "language_info": {
      "name": "python"
    }
  },
  "cells": [
    {
      "cell_type": "code",
      "source": [
        "import torch\n",
        "import torch.nn as nn\n",
        "import torch.optim as optim\n",
        "import pandas as pd\n",
        "from sklearn.model_selection import train_test_split\n",
        "from sklearn.preprocessing import MinMaxScaler\n",
        "import matplotlib.pyplot as plt"
      ],
      "metadata": {
        "id": "TrDOnCQk9WSr"
      },
      "execution_count": 32,
      "outputs": []
    },
    {
      "cell_type": "code",
      "source": [
        "dataset1 = pd.read_csv('/content/MYDATA.csv')\n",
        "X = dataset1[['X']].values     # feature\n",
        "y = dataset1[['Y']].values    # target\n"
      ],
      "metadata": {
        "id": "CuUVuPEn9arW"
      },
      "execution_count": 33,
      "outputs": []
    },
    {
      "cell_type": "code",
      "source": [
        "X_train, X_test, y_train, y_test = train_test_split(\n",
        "    X, y, test_size=0.33, random_state=33\n",
        ")\n",
        "\n",
        "scaler = MinMaxScaler()\n",
        "X_train = scaler.fit_transform(X_train)\n",
        "X_test  = scaler.transform(X_test)"
      ],
      "metadata": {
        "id": "XJ_Fy2lx9lst"
      },
      "execution_count": 34,
      "outputs": []
    },
    {
      "cell_type": "code",
      "source": [
        "X_train_tensor = torch.tensor(X_train, dtype=torch.float32)\n",
        "y_train_tensor = torch.tensor(y_train, dtype=torch.float32).view(-1, 1)\n",
        "X_test_tensor  = torch.tensor(X_test,  dtype=torch.float32)\n",
        "y_test_tensor  = torch.tensor(y_test,  dtype=torch.float32).view(-1, 1)"
      ],
      "metadata": {
        "id": "FBpkGsLi9oRV"
      },
      "execution_count": 35,
      "outputs": []
    },
    {
      "cell_type": "code",
      "source": [
        "class NeuralNet(nn.Module):\n",
        "    def __init__(self):\n",
        "        super().__init__()\n",
        "        # A simple 2-hidden-layer network\n",
        "        self.net = nn.Sequential(\n",
        "            nn.Linear(1, 16),  # Input -> first hidden (16 neurons)\n",
        "            nn.ReLU(),\n",
        "            nn.Linear(16, 8),  # first hidden -> second hidden (8 neurons)\n",
        "            nn.ReLU(),\n",
        "            nn.Linear(8, 1)    # second hidden -> output (1 neuron)\n",
        "        )\n",
        "        self.history = {'loss': []}\n",
        "\n",
        "    def forward(self, x):\n",
        "        return self.net(x)"
      ],
      "metadata": {
        "id": "VvDUwj4u9qva"
      },
      "execution_count": 36,
      "outputs": []
    },
    {
      "cell_type": "code",
      "source": [
        "ai_brain  = NeuralNet()\n",
        "criterion = nn.MSELoss()                   # Regression loss\n",
        "optimizer = optim.Adam(ai_brain.parameters(), lr=0.01)"
      ],
      "metadata": {
        "id": "yThvoP5i9uV7"
      },
      "execution_count": 37,
      "outputs": []
    },
    {
      "cell_type": "code",
      "source": [
        "def train_model(ai_brain, X_train, y_train, criterion, optimizer, epochs=2000):\n",
        "    for epoch in range(1, epochs + 1):\n",
        "        optimizer.zero_grad()\n",
        "        outputs = ai_brain(X_train)\n",
        "        loss    = criterion(outputs, y_train)\n",
        "        loss.backward()\n",
        "        optimizer.step()\n",
        "\n",
        "        ai_brain.history['loss'].append(loss.item())\n",
        "        if epoch % 200 == 0:\n",
        "            print(f\"Epoch [{epoch}/{epochs}], Loss: {loss.item():.6f}\")\n",
        "\n",
        "train_model(ai_brain, X_train_tensor, y_train_tensor, criterion, optimizer)"
      ],
      "metadata": {
        "colab": {
          "base_uri": "https://localhost:8080/"
        },
        "id": "4zBBWsZQ9w5S",
        "outputId": "1ccf98b6-40f9-4b3a-9f4c-b027d0e3203b"
      },
      "execution_count": 38,
      "outputs": [
        {
          "output_type": "stream",
          "name": "stdout",
          "text": [
            "Epoch [200/2000], Loss: 448.622437\n",
            "Epoch [400/2000], Loss: 4.131661\n",
            "Epoch [600/2000], Loss: 0.453311\n",
            "Epoch [800/2000], Loss: 0.167081\n",
            "Epoch [1000/2000], Loss: 0.060179\n",
            "Epoch [1200/2000], Loss: 0.018193\n",
            "Epoch [1400/2000], Loss: 0.006607\n",
            "Epoch [1600/2000], Loss: 0.002510\n",
            "Epoch [1800/2000], Loss: 0.000835\n",
            "Epoch [2000/2000], Loss: 0.000241\n"
          ]
        }
      ]
    },
    {
      "cell_type": "code",
      "source": [
        "with torch.no_grad():\n",
        "    test_loss = criterion(ai_brain(X_test_tensor), y_test_tensor)\n",
        "    print(f\"Test Loss: {test_loss.item():.6f}\")"
      ],
      "metadata": {
        "colab": {
          "base_uri": "https://localhost:8080/"
        },
        "id": "v7kxQYEL900l",
        "outputId": "606f4ec3-4ff6-49a1-cb2b-7f28e53c16cd"
      },
      "execution_count": 39,
      "outputs": [
        {
          "output_type": "stream",
          "name": "stdout",
          "text": [
            "Test Loss: 3.674684\n"
          ]
        }
      ]
    },
    {
      "cell_type": "code",
      "source": [
        "loss_df = pd.DataFrame(ai_brain.history)\n",
        "loss_df.plot()\n",
        "plt.xlabel(\"Epochs\")\n",
        "plt.ylabel(\"Loss\")\n",
        "plt.title(\"Loss during Training\")\n",
        "plt.show()"
      ],
      "metadata": {
        "colab": {
          "base_uri": "https://localhost:8080/",
          "height": 472
        },
        "id": "8E_EeZgK93PJ",
        "outputId": "b791d6ba-3e81-4af7-8fe7-2a9a0addba3f"
      },
      "execution_count": 40,
      "outputs": [
        {
          "output_type": "display_data",
          "data": {
            "text/plain": [
              "<Figure size 640x480 with 1 Axes>"
            ],
            "image/png": "[encoded data removed]"
          },
          "metadata": {}
        }
      ]
    },
    {
      "cell_type": "code",
      "source": [
        "X_n1_1 = torch.tensor([[9]], dtype=torch.float32)\n",
        "scaled_input = torch.tensor(scaler.transform(X_n1_1), dtype=torch.float32)\n",
        "prediction = ai_brain(scaled_input).item()\n",
        "print(f\"Prediction for Input=9: {prediction:.2f}\")"
      ],
      "metadata": {
        "colab": {
          "base_uri": "https://localhost:8080/"
        },
        "id": "mMG4qY4k95Qy",
        "outputId": "0bb20920-4a8e-4829-a80e-99c4ac1a2dda"
      },
      "execution_count": 41,
      "outputs": [
        {
          "output_type": "stream",
          "name": "stdout",
          "text": [
            "Prediction for Input=9: 89.99\n"
          ]
        }
      ]
    }
  ]
}